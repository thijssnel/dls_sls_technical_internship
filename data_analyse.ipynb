{
 "cells": [
  {
   "cell_type": "code",
   "execution_count": 1,
   "id": "767ea9f3",
   "metadata": {},
   "outputs": [],
   "source": [
    "import os\n",
    "from read_ASC import read_asc\n",
    "from read_ASC import dls_sls_analysis\n"
   ]
  },
  {
   "cell_type": "code",
   "execution_count": 2,
   "id": "d22d3828",
   "metadata": {},
   "outputs": [],
   "source": [
    "exp = dls_sls_analysis('/home/thijssnel/programeren/jaar_4/technische_stage/exp test process')"
   ]
  },
  {
   "cell_type": "code",
   "execution_count": 3,
   "id": "37b557a9",
   "metadata": {},
   "outputs": [
    {
     "name": "stdout",
     "output_type": "stream",
     "text": [
      "['', 'watersolvent']\n",
      "[10.0, 5.0]\n",
      "[129, 103, 90, 12, 51, 38, 116, 64, 77, 155, 25, 142]\n"
     ]
    }
   ],
   "source": [
    "print(exp.sample_names)\n",
    "print(exp.sample_Durations)\n",
    "print(exp.sample_angles)"
   ]
  },
  {
   "cell_type": "code",
   "execution_count": null,
   "id": "65898204",
   "metadata": {},
   "outputs": [
    {
     "data": {
      "text/plain": [
       "{'watersolvent_angle102.998_dur5.0': <read_ASC.read_asc at 0x7b0bd16b7170>}"
      ]
     },
     "execution_count": 8,
     "metadata": {},
     "output_type": "execute_result"
    }
   ],
   "source": [
    "exp.get_data(sample_name=['watersolvent'], duration=5, angle = 103)\n"
   ]
  },
  {
   "cell_type": "code",
   "execution_count": null,
   "id": "a74e426e",
   "metadata": {},
   "outputs": [],
   "source": []
  }
 ],
 "metadata": {
  "kernelspec": {
   "display_name": ".venv",
   "language": "python",
   "name": "python3"
  },
  "language_info": {
   "codemirror_mode": {
    "name": "ipython",
    "version": 3
   },
   "file_extension": ".py",
   "mimetype": "text/x-python",
   "name": "python",
   "nbconvert_exporter": "python",
   "pygments_lexer": "ipython3",
   "version": "3.12.3"
  }
 },
 "nbformat": 4,
 "nbformat_minor": 5
}
