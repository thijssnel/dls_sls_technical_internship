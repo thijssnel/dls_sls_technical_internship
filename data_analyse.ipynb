{
 "cells": [
  {
   "cell_type": "code",
   "execution_count": null,
   "id": "767ea9f3",
   "metadata": {},
   "outputs": [],
   "source": [
    "import os\n",
    "from read_ASC import read_asc\n",
    "from read_ASC import dls_sls_analysis\n"
   ]
  },
  {
   "cell_type": "code",
   "execution_count": 1,
   "id": "d22d3828",
   "metadata": {},
   "outputs": [
    {
     "ename": "NameError",
     "evalue": "name 'dls_sls_analysis' is not defined",
     "output_type": "error",
     "traceback": [
      "\u001b[0;31m---------------------------------------------------------------------------\u001b[0m",
      "\u001b[0;31mNameError\u001b[0m                                 Traceback (most recent call last)",
      "Cell \u001b[0;32mIn[1], line 1\u001b[0m\n\u001b[0;32m----> 1\u001b[0m exp \u001b[38;5;241m=\u001b[39m \u001b[43mdls_sls_analysis\u001b[49m(\u001b[38;5;124m'\u001b[39m\u001b[38;5;124m/home/thijssnel/programeren/jaar_4/exp test process\u001b[39m\u001b[38;5;124m'\u001b[39m)\n",
      "\u001b[0;31mNameError\u001b[0m: name 'dls_sls_analysis' is not defined"
     ]
    }
   ],
   "source": [
    "exp = dls_sls_analysis('/home/thijssnel/programeren/jaar_4/exp test process')"
   ]
  },
  {
   "cell_type": "code",
   "execution_count": null,
   "id": "37b557a9",
   "metadata": {},
   "outputs": [],
   "source": [
    "print(exp.sample_names)\n",
    "print(exp.sample_Durations)\n",
    "print(exp.sample_angles)"
   ]
  },
  {
   "cell_type": "code",
   "execution_count": 2,
   "id": "65898204",
   "metadata": {},
   "outputs": [
    {
     "ename": "NameError",
     "evalue": "name 'exp' is not defined",
     "output_type": "error",
     "traceback": [
      "\u001b[0;31m---------------------------------------------------------------------------\u001b[0m",
      "\u001b[0;31mNameError\u001b[0m                                 Traceback (most recent call last)",
      "Cell \u001b[0;32mIn[2], line 1\u001b[0m\n\u001b[0;32m----> 1\u001b[0m \u001b[43mexp\u001b[49m\u001b[38;5;241m.\u001b[39mget_data(sample_name\u001b[38;5;241m=\u001b[39m[\u001b[38;5;124m'\u001b[39m\u001b[38;5;124mwatersolvent\u001b[39m\u001b[38;5;124m'\u001b[39m,\u001b[38;5;124m'\u001b[39m\u001b[38;5;124m'\u001b[39m], duration\u001b[38;5;241m=\u001b[39m\u001b[38;5;241m5\u001b[39m, angle \u001b[38;5;241m=\u001b[39m \u001b[38;5;241m103\u001b[39m)\n",
      "\u001b[0;31mNameError\u001b[0m: name 'exp' is not defined"
     ]
    }
   ],
   "source": [
    "exp.get_data(sample_name=['watersolvent',''], duration=5, angle = 103)\n"
   ]
  },
  {
   "cell_type": "code",
   "execution_count": null,
   "id": "a74e426e",
   "metadata": {},
   "outputs": [],
   "source": []
  }
 ],
 "metadata": {
  "kernelspec": {
   "display_name": ".venv",
   "language": "python",
   "name": "python3"
  },
  "language_info": {
   "codemirror_mode": {
    "name": "ipython",
    "version": 3
   },
   "file_extension": ".py",
   "mimetype": "text/x-python",
   "name": "python",
   "nbconvert_exporter": "python",
   "pygments_lexer": "ipython3",
   "version": "3.12.3"
  }
 },
 "nbformat": 4,
 "nbformat_minor": 5
}
